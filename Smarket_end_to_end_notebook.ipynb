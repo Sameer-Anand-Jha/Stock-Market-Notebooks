{
 "cells": [
  {
   "cell_type": "markdown",
   "id": "e37d04f6",
   "metadata": {},
   "source": [
    "# End-to-End ML Pipeline: Smarket Dataset\n",
    "\n",
    "**Author:** Your Name\n",
    "\n",
    "This notebook demonstrates a complete ML workflow for the **Smarket** dataset (1990-2001). It includes data loading, EDA, PCA/t-SNE, pipelines, TimeSeries CV, GridSearch including KNN, model evaluation, interpretation, calibration, and model saving.\n"
   ]
  },
  {
   "cell_type": "markdown",
   "id": "3ba12059",
   "metadata": {},
   "source": [
    "## 1) Setup & imports"
   ]
  },
  {
   "cell_type": "code",
   "execution_count": null,
   "id": "0f6ec6a7",
   "metadata": {},
   "outputs": [],
   "source": [
    "import pandas as pd\n",
    "import numpy as np\n",
    "import matplotlib.pyplot as plt\n",
    "import seaborn as sns\n",
    "import joblib\n",
    "import warnings\n",
    "warnings.filterwarnings('ignore')\n",
    "\n",
    "from sklearn.model_selection import TimeSeriesSplit, cross_val_score, GridSearchCV\n",
    "from sklearn.preprocessing import StandardScaler\n",
    "from sklearn.pipeline import Pipeline\n",
    "from sklearn.linear_model import LogisticRegression\n",
    "from sklearn.neighbors import KNeighborsClassifier\n",
    "from sklearn.ensemble import RandomForestClassifier, GradientBoostingClassifier\n",
    "from sklearn.metrics import (accuracy_score, confusion_matrix, classification_report, roc_curve, auc)\n",
    "from sklearn.decomposition import PCA\n",
    "from sklearn.manifold import TSNE\n",
    "\n",
    "np.random.seed(42)\n",
    "print('imports done')\n"
   ]
  },
  {
   "cell_type": "markdown",
   "id": "f93b18a4",
   "metadata": {},
   "source": [
    "## 2) Load dataset"
   ]
  },
  {
   "cell_type": "code",
   "execution_count": null,
   "id": "54d575ff",
   "metadata": {},
   "outputs": [],
   "source": [
    "url = \"https://raw.githubusercontent.com/vincentarelbundock/Rdatasets/master/csv/ISLR/Smarket.csv\"\n",
    "df = pd.read_csv(url, index_col=0)\n",
    "print(df.shape)\n",
    "df.head()\n"
   ]
  },
  {
   "cell_type": "markdown",
   "id": "7bab9be2",
   "metadata": {},
   "source": [
    "## 3) Inspect & Preprocess"
   ]
  },
  {
   "cell_type": "code",
   "execution_count": null,
   "id": "035988cd",
   "metadata": {},
   "outputs": [],
   "source": [
    "df.info()\n",
    "df.describe().T\n",
    "\n",
    "# Binary target and time split\n",
    "\n",
    "df['Direction_bin'] = (df['Direction']=='Up').astype(int)\n",
    "train = df[df['Year'] <= 2000].copy()\n",
    "test = df[df['Year'] == 2001].copy()\n",
    "features = ['Lag1','Lag2','Lag3','Lag4','Lag5','Volume']\n",
    "X_train = train[features].copy(); y_train = train['Direction_bin'].copy()\n",
    "X_test = test[features].copy(); y_test = test['Direction_bin'].copy()\n",
    "print('Train/Test shapes:', X_train.shape, X_test.shape)\n"
   ]
  },
  {
   "cell_type": "markdown",
   "id": "a1d497a3",
   "metadata": {},
   "source": [
    "## 4) EDA"
   ]
  },
  {
   "cell_type": "code",
   "execution_count": null,
   "id": "47e5c55a",
   "metadata": {},
   "outputs": [],
   "source": [
    "sns.pairplot(train[features + ['Direction']], hue='Direction', corner=True, plot_kws={'s':20})\n",
    "plt.show()\n",
    "plt.figure(figsize=(6,4))\n",
    "sns.heatmap(train[features].corr(), annot=True, cmap='coolwarm')\n",
    "plt.show()\n"
   ]
  },
  {
   "cell_type": "markdown",
   "id": "ab9bdb8c",
   "metadata": {},
   "source": [
    "## 5) PCA & t-SNE"
   ]
  },
  {
   "cell_type": "code",
   "execution_count": null,
   "id": "573bc996",
   "metadata": {},
   "outputs": [],
   "source": [
    "scaler = StandardScaler()\n",
    "X_train_scaled = scaler.fit_transform(X_train)\n",
    "\n",
    "pca2 = PCA(n_components=2, random_state=42).fit_transform(X_train_scaled)\n",
    "plt.figure(figsize=(5,4)); plt.scatter(pca2[:,0], pca2[:,1], c=y_train, cmap='coolwarm'); plt.title('PCA'); plt.show()\n",
    "\n",
    "from sklearn.manifold import TSNE\n",
    "tsne2 = TSNE(n_components=2, random_state=42, perplexity=30).fit_transform(X_train_scaled)\n",
    "plt.figure(figsize=(5,4)); plt.scatter(tsne2[:,0], tsne2[:,1], c=y_train, cmap='coolwarm'); plt.title('t-SNE'); plt.show()\n"
   ]
  },
  {
   "cell_type": "markdown",
   "id": "7bbb3fd8",
   "metadata": {},
   "source": [
    "## 6) Baseline models: Logistic & KNN"
   ]
  },
  {
   "cell_type": "code",
   "execution_count": null,
   "id": "d0b24c0d",
   "metadata": {},
   "outputs": [],
   "source": [
    "pipe_lr = Pipeline([('scaler', StandardScaler()), ('clf', LogisticRegression(max_iter=1000, random_state=42))])\n",
    "pipe_knn = Pipeline([('scaler', StandardScaler()), ('clf', KNeighborsClassifier())])\n",
    "\n",
    "pipe_lr.fit(X_train, y_train)\n",
    "pipe_knn.fit(X_train, y_train)\n",
    "\n",
    "print('Logistic test acc:', accuracy_score(y_test, pipe_lr.predict(X_test)))\n",
    "print('KNN test acc (k=5):', accuracy_score(y_test, pipe_knn.predict(X_test)))\n",
    "\n",
    "print('\\nLogistic classification report:\\n', classification_report(y_test, pipe_lr.predict(X_test)))\n",
    "print('\\nKNN classification report:\\n', classification_report(y_test, pipe_knn.predict(X_test)))\n"
   ]
  },
  {
   "cell_type": "markdown",
   "id": "1415a220",
   "metadata": {},
   "source": [
    "## 7) TimeSeriesSplit CV (demonstrate leakage concerns)"
   ]
  },
  {
   "cell_type": "code",
   "execution_count": null,
   "id": "932034f4",
   "metadata": {},
   "outputs": [],
   "source": [
    "from sklearn.model_selection import TimeSeriesSplit\n",
    "\n",
    "tscv = TimeSeriesSplit(n_splits=5)\n",
    "for i, (tr, val) in enumerate(tscv.split(X_train)):\n",
    "    print('Split', i, 'train indices', tr.min(), tr.max(), 'val indices', val.min(), val.max())\n",
    "\n",
    "print('Logistic CV acc:', cross_val_score(pipe_lr, X_train, y_train, cv=tscv).mean())\n",
    "print('KNN CV acc:', cross_val_score(pipe_knn, X_train, y_train, cv=tscv).mean())\n"
   ]
  },
  {
   "cell_type": "markdown",
   "id": "c0e5c174",
   "metadata": {},
   "source": [
    "## 8) Time-aware GridSearch (Logistic, KNN, RF, GB)"
   ]
  },
  {
   "cell_type": "code",
   "execution_count": null,
   "id": "28d7a5e1",
   "metadata": {},
   "outputs": [],
   "source": [
    "pipe = Pipeline([('scaler', StandardScaler()), ('clf', LogisticRegression())])\n",
    "param_grid = [\n",
    "    {'clf': [LogisticRegression(max_iter=1000)], 'clf__C':[0.01,0.1,1,10]},\n",
    "    {'clf': [KNeighborsClassifier()], 'clf__n_neighbors':[3,5,7], 'clf__weights':['uniform','distance']},\n",
    "    {'clf': [RandomForestClassifier(random_state=42)], 'clf__n_estimators':[50,200], 'clf__max_depth':[3,5,None]},\n",
    "    {'clf': [GradientBoostingClassifier(random_state=42)], 'clf__n_estimators':[50,200], 'clf__learning_rate':[0.01,0.1]}\n",
    "]\n",
    "\n",
    "ts = TimeSeriesSplit(n_splits=5)\n",
    "from sklearn.model_selection import GridSearchCV\n",
    "\n",
    "grid = GridSearchCV(pipe, param_grid=param_grid, cv=ts, scoring='accuracy', n_jobs=-1, verbose=1)\n",
    "grid.fit(X_train, y_train)\n",
    "print('Best params:', grid.best_params_)\n",
    "print('Best CV score:', grid.best_score_)\n"
   ]
  },
  {
   "cell_type": "markdown",
   "id": "bda3286a",
   "metadata": {},
   "source": [
    "## 9) Evaluate best model on test set (2001)"
   ]
  },
  {
   "cell_type": "code",
   "execution_count": null,
   "id": "81006e53",
   "metadata": {},
   "outputs": [],
   "source": [
    "best = grid.best_estimator_\n",
    "print('Best estimator:', best)\n",
    "\n",
    "y_pred_test = best.predict(X_test)\n",
    "print('Test accuracy:', accuracy_score(y_test, y_pred_test))\n",
    "print(classification_report(y_test, y_pred_test))\n",
    "\n",
    "if hasattr(best, 'predict_proba') or hasattr(best.named_steps['clf'], 'predict_proba'):\n",
    "    proba = best.predict_proba(X_test)[:,1]\n",
    "    fpr, tpr, _ = roc_curve(y_test, proba)\n",
    "    roc_auc = auc(fpr, tpr)\n",
    "    print('Test AUC:', roc_auc)\n",
    "    plt.plot(fpr, tpr, label=f'AUC={roc_auc:.3f}'); plt.plot([0,1],[0,1],'k--'); plt.legend(); plt.show()\n",
    "else:\n",
    "    print('No predict_proba available for test ROC')\n",
    "\n",
    "sns.heatmap(confusion_matrix(y_test, y_pred_test), annot=True, fmt='d'); plt.title('Confusion matrix (test)'); plt.show()\n"
   ]
  },
  {
   "cell_type": "markdown",
   "id": "0128f615",
   "metadata": {},
   "source": [
    "## 10) Feature importance / coefficients"
   ]
  },
  {
   "cell_type": "code",
   "execution_count": null,
   "id": "c24a8faa",
   "metadata": {},
   "outputs": [],
   "source": [
    "clf = grid.best_estimator_.named_steps['clf']\n",
    "if hasattr(clf, 'coef_'):\n",
    "    coefs = clf.coef_.ravel()\n",
    "    print('Coefficients:')\n",
    "    for f, c in zip(features, coefs): print(f, c)\n",
    "    plt.bar(features, coefs); plt.title('Logistic coefficients'); plt.show()\n",
    "elif hasattr(clf, 'feature_importances_'):\n",
    "    imps = clf.feature_importances_\n",
    "    for f, imp in zip(features, imps): print(f, imp)\n",
    "    plt.bar(features, imps); plt.title('Feature importances'); plt.show()\n",
    "else:\n",
    "    print('No coef_ or feature_importances_ available for this classifier.')\n"
   ]
  },
  {
   "cell_type": "markdown",
   "id": "869fe9f0",
   "metadata": {},
   "source": [
    "## 11) Calibration (Brier score & curve)"
   ]
  },
  {
   "cell_type": "code",
   "execution_count": null,
   "id": "5257a8c5",
   "metadata": {},
   "outputs": [],
   "source": [
    "from sklearn.calibration import calibration_curve\n",
    "if hasattr(best, 'predict_proba'):\n",
    "    probs = best.predict_proba(X_test)[:,1]\n",
    "    brier = ((probs - y_test) ** 2).mean()\n",
    "    print('Brier score:', brier)\n",
    "    prob_true, prob_pred = calibration_curve(y_test, probs, n_bins=10)\n",
    "    plt.plot(prob_pred, prob_true, marker='o'); plt.plot([0,1],[0,1],'k--'); plt.title('Calibration curve'); plt.show()\n",
    "else:\n",
    "    print('No predict_proba for calibration')\n"
   ]
  },
  {
   "cell_type": "markdown",
   "id": "7b234357",
   "metadata": {},
   "source": [
    "## 12) Save model and example predict script"
   ]
  },
  {
   "cell_type": "code",
   "execution_count": null,
   "id": "e622a250",
   "metadata": {},
   "outputs": [],
   "source": [
    "joblib.dump(grid.best_estimator_, '/mnt/data/smarket_best_pipeline.joblib')\n",
    "print('Saved pipeline to /mnt/data/smarket_best_pipeline.joblib')\n",
    "\n",
    "# Example usage\n",
    "model = joblib.load('/mnt/data/smarket_best_pipeline.joblib')\n",
    "print('Loaded model:', model)\n",
    "print('Example pred:', model.predict(X_test.head()))\n"
   ]
  }
 ],
 "metadata": {},
 "nbformat": 4,
 "nbformat_minor": 5
}
